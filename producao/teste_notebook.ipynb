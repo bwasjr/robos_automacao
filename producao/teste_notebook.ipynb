{
 "cells": [
  {
   "cell_type": "code",
   "execution_count": 1,
   "id": "3c56d464",
   "metadata": {},
   "outputs": [],
   "source": [
    "from selenium import webdriver\n",
    "from selenium.webdriver.common.by import By\n",
    "from selenium.webdriver.support.ui import WebDriverWait\n",
    "from selenium.webdriver.support import expected_conditions as EC\n",
    "import numpy as np\n",
    "import time\n",
    "from datetime import date\n",
    "from datetime import datetime\n",
    "from datetime import timedelta\n",
    "import os\n",
    "import glob\n",
    "import pandas as pd\n",
    "import csv\n",
    "from xlsxwriter.workbook import Workbook\n",
    "import interacoes_selenium as IS\n",
    "from sqlalchemy import create_engine\n",
    "import pymysql\n",
    "import datetime\n",
    "from dateutil.relativedelta import *"
   ]
  },
  {
   "cell_type": "code",
   "execution_count": 2,
   "id": "bba65cc0",
   "metadata": {},
   "outputs": [],
   "source": [
    "#declara os arquivos\n",
    "arq_extracao = '//srv-arquivos07/dirgerti/SEDT_AUTORE/TN_AUTORE/SUSTENTAÇÃO/Incidentes/Dashboard Incidentes/base dashboard incidentes.xlsx'\n",
    "arq_incide_resolucao = '//srv-arquivos07/dirgerti/SEDT_AUTORE/TN_AUTORE/SUSTENTAÇÃO/Incidentes/Dashboard Incidentes/indice_resolucao.xlsx'\n"
   ]
  },
  {
   "cell_type": "code",
   "execution_count": 3,
   "id": "d925e7ee",
   "metadata": {},
   "outputs": [],
   "source": [
    "#cria os dataframes dos arquivos\n",
    "df_extracao = pd.read_excel(arq_extracao)#dataframe do arquivo de extração do SIGS"
   ]
  },
  {
   "cell_type": "code",
   "execution_count": 4,
   "id": "2ec6244f",
   "metadata": {},
   "outputs": [],
   "source": [
    "df_extracao['is_portal']=''"
   ]
  },
  {
   "cell_type": "code",
   "execution_count": 9,
   "id": "e0ac1040",
   "metadata": {},
   "outputs": [
    {
     "data": {
      "text/plain": [
       "pandas.core.series.Series"
      ]
     },
     "execution_count": 9,
     "metadata": {},
     "output_type": "execute_result"
    }
   ],
   "source": [
    "binario =(df_extracao['Tipo de Produto'] == 'PORTAL DE NEGOCIOS') | (df_extracao['Subcategoria'] == 'PORTAL DE NEGOCIOS - AUTO') | (df_extracao['Subcategoria'] == 'PORTAL DE NEGOCIOS - RE')#ignora os incidentes classificados como portal de negócios. Esses INs são direcionados manualmente\n",
    "type(binario)\n"
   ]
  },
  {
   "cell_type": "code",
   "execution_count": 10,
   "id": "807349cb",
   "metadata": {},
   "outputs": [],
   "source": [
    "df_extracao['is_portal']= binario"
   ]
  },
  {
   "cell_type": "code",
   "execution_count": 25,
   "id": "3a62a82c",
   "metadata": {},
   "outputs": [],
   "source": [
    "df_portal = df_extracao[df_extracao['is_portal']==True]"
   ]
  },
  {
   "cell_type": "code",
   "execution_count": 26,
   "id": "7db70ef7",
   "metadata": {},
   "outputs": [],
   "source": [
    "arq_portal = '//srv-arquivos07/dirgerti/SEDT_AUTORE/TN_AUTORE/SUSTENTAÇÃO/Incidentes/Dashboard Incidentes/portal.xlsx'\n",
    "df_portal.to_excel(arq_portal, index=False)"
   ]
  },
  {
   "cell_type": "code",
   "execution_count": 27,
   "id": "87320431",
   "metadata": {},
   "outputs": [
    {
     "data": {
      "text/plain": [
       "826"
      ]
     },
     "execution_count": 27,
     "metadata": {},
     "output_type": "execute_result"
    }
   ],
   "source": [
    "len(df_portal)"
   ]
  },
  {
   "cell_type": "code",
   "execution_count": null,
   "id": "1ed62d12",
   "metadata": {},
   "outputs": [],
   "source": []
  }
 ],
 "metadata": {
  "kernelspec": {
   "display_name": "Python 3",
   "language": "python",
   "name": "python3"
  },
  "language_info": {
   "codemirror_mode": {
    "name": "ipython",
    "version": 3
   },
   "file_extension": ".py",
   "mimetype": "text/x-python",
   "name": "python",
   "nbconvert_exporter": "python",
   "pygments_lexer": "ipython3",
   "version": "3.7.9"
  }
 },
 "nbformat": 4,
 "nbformat_minor": 5
}
